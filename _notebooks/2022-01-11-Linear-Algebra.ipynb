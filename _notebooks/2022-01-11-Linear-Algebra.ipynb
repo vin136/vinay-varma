{
 "cells": [
  {
   "cell_type": "markdown",
   "id": "1c1cc033",
   "metadata": {},
   "source": [
    "# Linear Algebra -  (Chapter 0.1)\n",
    "> Key Ideas\n",
    "- toc: true \n",
    "- badges: true\n",
    "- comments: true\n",
    "- categories: [Research]\n",
    "\n"
   ]
  },
  {
   "cell_type": "markdown",
   "id": "2a32bfdf",
   "metadata": {},
   "source": [
    "> Note: These are not meant to be used for self-teaching the subject. My objective is to collect the summary of all the ideas that a working `Machine Learning Researcher` should be aware of. Use this as a reference to check or deepen your understanding. At the start of each post I will provide an opinionated learning strategy to teach yourself the subject from scratch in the **shortest possible time**. In most cases the post is based off those resources, thus the credit is due to the orginal authors."
   ]
  },
  {
   "cell_type": "markdown",
   "id": "bc7af3e4",
   "metadata": {},
   "source": [
    "**Pointers to learn from scratch (Go through these resources in the given order.)**\n",
    "\n",
    "Read and workthrough the first 4 chapters of the book [mml](https://mml-book.github.io/book/mml-book.pdf).\n",
    "\n",
    "Watch through this series of videos by 3Blue1Brown - [Essence of linear algebra](https://www.youtube.com/playlist?list=PLZHQObOWTQDPD3MizzM2xVFitgF8hE_ab) along the way. \n",
    "\n",
    "For all practical purposes this should suffice. But, I would also suggest to read through [Linear Algebra Done Right](https://linear.axler.net)"
   ]
  },
  {
   "cell_type": "markdown",
   "id": "10d2684c",
   "metadata": {},
   "source": [
    "> Note: I tried to build the subject from ground up. This will inevitably involve some proofs. You are not expected to be able to prove these but it's good to see them atleast once. Conveniently, I have done these proofs via handwritten notes making annotation and commentry easier.I tried include the minimal set of proofs to allow the reader to deeply appreciate the topic and it's applications."
   ]
  },
  {
   "cell_type": "markdown",
   "id": "3781b26d",
   "metadata": {},
   "source": [
    "# Central Objects : Vectors and linear maps"
   ]
  },
  {
   "cell_type": "markdown",
   "id": "81154466",
   "metadata": {},
   "source": [
    "Here we will define the lead actors - vectors(objects of study) and linear maps(mappings between these objects)\n",
    "\n",
    "Vector Space : Set of all objects called **vectors** that satisfy some intuitive constraints. Consider the following vector spaces."
   ]
  },
  {
   "cell_type": "markdown",
   "id": "6b143e4d",
   "metadata": {},
   "source": [
    "![](my_icons/la2.jpg)\n",
    "\n",
    "\n",
    "\n",
    "\n",
    "\n",
    "Note the commonality between the following objects. For illustration let's use geometric vectors, that can be seen as pointed arrows within a coordinate axis, represented as a list of numbers.\n",
    "\n",
    "![](my_icons/la1.jpg)\n",
    "\n",
    "\n",
    "\n",
    "All these satisfy some intuitive properties once we define addition and scalar multiplication. Let's call all such objects **Vectors**\n",
    "\n",
    "![](my_icons/la3.jpg)\n",
    "\n",
    "\n"
   ]
  },
  {
   "cell_type": "markdown",
   "id": "c9e0c00f",
   "metadata": {},
   "source": [
    "Linear Algebra studies the emergent properties of objects once we impose simple properties like commutitivity,associativity etc. Note that we are just formalizing the familiar notions. This helps us discover some very interesting properties as we shall see. \n",
    "\n",
    "In short, we introduced the notion of `vector space` which consists of \n",
    "\n",
    " - A set `X` of vectors\n",
    " - A set `C` of scalars\n",
    " \n",
    " such that vectors are closed that are closed under addition,subtraction and scalar multiplication and satisfies natural associative and distributive laws."
   ]
  },
  {
   "cell_type": "markdown",
   "id": "8e6512c2",
   "metadata": {},
   "source": [
    "**Linear Maps**\n",
    "\n",
    "Linear Maps are the functions that map between the elements of the vector space. But not all mappings, only those that satisfy linearity conditions as outlined below:\n",
    "\n",
    "\n",
    "\n",
    "![](my_icons/la4.jpg)\n",
    "\n",
    "\n",
    "\n"
   ]
  },
  {
   "cell_type": "markdown",
   "id": "75716c52",
   "metadata": {},
   "source": [
    "Now,If you have studied **Linear Algebra**, you might have jumped directly at **geometric vectors** and **matrices**. Below we will take a slightly more abstract approach that will pay dividends when we study arguably the most used decorated area the subject **Matrix Decompositions - SVD and Eigen Value decomposition.**"
   ]
  },
  {
   "cell_type": "markdown",
   "id": "ba20fde4",
   "metadata": {},
   "source": [
    "## Idea 1: Spanning Vectors"
   ]
  },
  {
   "cell_type": "markdown",
   "id": "29c04e1c",
   "metadata": {},
   "source": [
    "**Big Idea 1**: All the elements of a vector space can be represented succintly as a linear combination of few  a **vectors**. In other words,Irrespective of the vector space (geometric vectors,polynomials, functions etc), there exists a set of few vectors that can be used to generate all the elements of that set. This section builds up the material to prove this fact."
   ]
  },
  {
   "cell_type": "markdown",
   "id": "0a58e7fe",
   "metadata": {},
   "source": [
    "**Subspace**\n",
    "\n",
    "There exist a subset of the vector space that also satisfy the properties of the vector space. This will be more clear via examples below.\n",
    "\n",
    "![](my_icons/la4.jpg)\n",
    "\n"
   ]
  },
  {
   "cell_type": "markdown",
   "id": "8e1cee63",
   "metadata": {},
   "source": [
    "> Tip: To check if a set forms a valid **Subspace** check if the elements of the set are closed under a.`addition` and b.`zero` element belongs to the set c. closed under scalar multiplication. Rest of the properties(distributivity,associativity etc) are anyways satisfied by definition(as these are subset of the vector space)."
   ]
  },
  {
   "cell_type": "markdown",
   "id": "ec92eb98",
   "metadata": {},
   "source": [
    "![](my_icons/la5.jpg)\n",
    "\n"
   ]
  },
  {
   "cell_type": "markdown",
   "id": "31f632a0",
   "metadata": {},
   "source": [
    "Now it is sensible to ask whether by combining two subspaces(UNION,INTERSECTION) can we get another valid subspace. Convince yourself that the `INTERSECTION` of two subspaces is always a subspace which is not the case for `UNION`. If we define the notion `sum of two subspaces` as the collection all elements that can be written as `sum of an element from each subspace`, we note that this set is also a vector space thus a subspace of the original. Also this is the smallest subspace containing both the subspaces (just like how union of two sets in set theory is the smallest set containing both the sets). \n",
    "\n",
    "\n",
    "![](my_icons/la6.jpg)\n",
    "\n",
    "\n",
    "![](my_icons/la7.jpg)\n",
    "\n"
   ]
  },
  {
   "cell_type": "markdown",
   "id": "adfae991",
   "metadata": {},
   "source": [
    "> Important: Understand the above claims before proceeding."
   ]
  },
  {
   "cell_type": "markdown",
   "id": "62473ea1",
   "metadata": {},
   "source": [
    "**Span,basis and linear independence**"
   ]
  },
  {
   "cell_type": "markdown",
   "id": "52702d26",
   "metadata": {},
   "source": [
    "Note that give two vectors $v_1$ and $v_2$ the set $V = \\{{\\lambda_{1}\\hat{v_1} + \\lambda_{2}\\hat{v_2}: \\lambda_{1},\\lambda_{2}\\in C}\\}$ forms a subspace. Also note that if we have another vector $\\hat{v_3} = 2\\hat{v_1}$ and define the new set $V'$ as  $V' = \\{{\\lambda_{1}\\hat{v_1} + \\lambda_{2}\\hat{v_2} + \\lambda_{3}\\hat{v_3}: \\lambda_{1},\\lambda_{2},\\lambda_{3} \\in C}\\}$, we will still have $V = V'$. Using $\\hat{v_3}$ doesn't give us any new vectors that is not already in $V$. Let's add two words to our vocabulary **Span** and **Linear Independence**.\n",
    "\n",
    "\n",
    "![](my_icons/la8.jpg)\n",
    "\n",
    "\n"
   ]
  },
  {
   "cell_type": "markdown",
   "id": "4f13aea0",
   "metadata": {},
   "source": [
    "Below we see how span and linear independence are related.\n",
    "\n",
    "![](my_icons/la9.jpg)\n",
    "\n"
   ]
  },
  {
   "cell_type": "markdown",
   "id": "3c6bd19a",
   "metadata": {},
   "source": [
    "Now, we are certain that given a subspace spanned by $n$ vectors, the subspace can also be spanned by a set of $k$ linearly independent vectors where $k <= n$. What's the size of the smallest $k$ that can still span the space ?\n",
    "\n",
    "**Basis**:\n",
    "Set of the minimal number of vectors needed to generate all the elements of the subspace. It is easy to see that all such vectors should be linearly independent. (else it wont be the minimal set). Below examples will make the concept more concrete.\n",
    "\n",
    "![](my_icons/la10.jpg)\n",
    "\n"
   ]
  },
  {
   "cell_type": "markdown",
   "id": "133797ec",
   "metadata": {},
   "source": [
    "It can be trivially shown that the cardinality of the basis set(#number of vectors in the basis set) is constant, no matter which set of independent vectors are chosen. For example, in case of geometric vectors in $R^{n}$, we could have chosen a differnt basis but it still has to have same count of vectors to span the same space. Thus we can call this cardinality the **dimension** of the vector space. \n",
    "\n",
    "Now given a spanning set, how to get the basis ?\n",
    "\n",
    "- Just remove any vector that can be expressed as a linear combination of others until no more. At th end we are left with the basis set.\n",
    "\n",
    "Simalarly, We can build the basis set from a single vector(or a subset of the basis set) by adding vectors that cannot be expressed as a linear combination of the given set but belongs to the subspace.\n",
    "\n",
    "To drive all these points home, let's solve some problems dealing with **span,dimension and linear dependence**. Along the way we will also learn how to solve **system of linear equations.**"
   ]
  },
  {
   "cell_type": "markdown",
   "id": "0e58ef60",
   "metadata": {},
   "source": [
    "## Practicum : Basis and solution to system of linear equations\n",
    "\n",
    "1.Finding Solutions to system of linear equations.\n",
    "\n",
    "This boils down to answering whether the right handside of the equation exist within the span of vectors defined by the equations as shown below.\n",
    "\n",
    "![](my_icons/la11.jpg)\n",
    "\n",
    "\n",
    "Now we know that any vector in $R^{4}$ can be spanned by a set of 4 linearly independent vectors. Thus, if the above vectors are linearly independent we will have a unique solution,else none.(note that the uniqueness comes from the definition of basis - minimal set of **linearly independent** vectors.). We haven't yet discussed how to find the coefficients - $x_1$,$x_2$,$x_3$,$x_4$. The techinque is called Gaussian Elimination in case the reader is not familiar check out this [wiki entry.](https://en.wikipedia.org/wiki/Gaussian_elimination). Below is the solution.\n",
    "\n",
    "\n",
    "![](my_icons/la12.jpg)"
   ]
  },
  {
   "cell_type": "markdown",
   "id": "2889f338",
   "metadata": {},
   "source": [
    "\n",
    "**Solution Concept**\n",
    "- Subtracting/adding one equation to the other does'nt change the solution of a system of equations. **Gaussian Elimination** Provides a systematic algorithm leveraging this fact. In the above question the last row reads as **0=1**,thus we have no solution."
   ]
  },
  {
   "cell_type": "markdown",
   "id": "5a272dbf",
   "metadata": {},
   "source": [
    "Now Let's see a case where there can be infinite solutions.Conceptually it means **the set of vectors defined by the linear equations** has redundant vectors.(more vectors than the dimensionality of the space). This will give us more than one way of reaching any point.\n",
    "\n",
    "\n",
    "![](my_icons/la13.jpg)\n",
    "\n",
    "\n",
    "`NOTE`: We have 5 vectors for a 4 dimensional space.\n",
    "\n",
    "\n",
    "![](my_icons/la14-2.jpg)"
   ]
  },
  {
   "cell_type": "markdown",
   "id": "0a5c384a",
   "metadata": {},
   "source": [
    "**Solution Concept**\n",
    "- The idea is to reduce the vectors such that there is a `1` at a different slot for each of the vector,making reading off linearly independent vectors easy.(as any linear combination of the previous vectors cannot produce a value in the new slot.) In the above solution we note that $\\hat v_1$,$\\hat v_3$,$\\hat v_4$ can produce 1's at 1st,2nd and 3rd index repectively thus are linearly independent. This makes $\\hat v_2$ and $\\hat v_5$ redundant. Also observe that we can write **$\\hat v_2$  as linear combination of $\\hat v_1$,$\\hat v_3$,$\\hat v_4$ implying we can have a zero. Similarly for $\\hat v_5$. Below note makes this clear.**\n",
    "\n",
    "![](my_icons/la19.jpg)"
   ]
  },
  {
   "cell_type": "markdown",
   "id": "7b7322f3",
   "metadata": {},
   "source": [
    "> Important: If you have trouble solving above two questions, refer to the text mentioned at the beginning of the chapter. Here I only intend to show how the notion of **span and independence** translate to finding solutions to system of linear equations."
   ]
  },
  {
   "cell_type": "markdown",
   "id": "00b17676",
   "metadata": {},
   "source": [
    "Before proceeding let's consider one last problem.\n",
    "\n",
    "![](my_icons/la15.jpg)"
   ]
  },
  {
   "cell_type": "markdown",
   "id": "f4e62bd0",
   "metadata": {},
   "source": [
    "let's start by find the basis for $U_1$ and $U_2$. This will let us infer the space spanned by both the sets. Note here how finding basis set is helpful as it's the **simplest representation of the underlying vector space.**\n",
    "\n",
    "![](my_icons/la16.jpg)\n",
    "![](my_icons/la17.jpg)\n",
    "![](my_icons/la18.jpg)"
   ]
  },
  {
   "cell_type": "code",
   "execution_count": null,
   "id": "46c21eda",
   "metadata": {},
   "outputs": [],
   "source": []
  }
 ],
 "metadata": {
  "kernelspec": {
   "display_name": "Python 3 (ipykernel)",
   "language": "python",
   "name": "python3"
  },
  "language_info": {
   "codemirror_mode": {
    "name": "ipython",
    "version": 3
   },
   "file_extension": ".py",
   "mimetype": "text/x-python",
   "name": "python",
   "nbconvert_exporter": "python",
   "pygments_lexer": "ipython3",
   "version": "3.9.9"
  }
 },
 "nbformat": 4,
 "nbformat_minor": 5
}
