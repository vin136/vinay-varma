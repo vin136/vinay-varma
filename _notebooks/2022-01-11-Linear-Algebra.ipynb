{
 "cells": [
  {
   "cell_type": "markdown",
   "id": "9bd5e511",
   "metadata": {},
   "source": [
    "# Linear Algebra -  (Chapter 0.1)\n",
    "> Key Ideas\n",
    "- toc: true \n",
    "- badges: true\n",
    "- comments: true\n",
    "- categories: [Research]\n",
    "\n"
   ]
  },
  {
   "cell_type": "markdown",
   "id": "0dae293b",
   "metadata": {},
   "source": [
    "> Note: These are not meant to be used for self-teaching the subject. My objective is to collect the summary of all the ideas that a working `Machine Learning Researcher` should be aware of. Use this as a reference to check or deepen your understanding. At the start of each post I will provide an opinionated learning strategy to teach yourself the subject from scratch in the **shortest possible time**. In most cases the post is based off those resources, thus the credit is due to the orginal authors."
   ]
  },
  {
   "cell_type": "markdown",
   "id": "6344c024",
   "metadata": {},
   "source": [
    "**Pointers to learn from scratch (Go through these resources in the given order.)**\n",
    "\n",
    "Read and workthrough the first 4 chapters of the book [mml](https://mml-book.github.io/book/mml-book.pdf).\n",
    "\n",
    "Watch through this series of videos by 3Blue1Brown - [Essence of linear algebra](https://www.youtube.com/playlist?list=PLZHQObOWTQDPD3MizzM2xVFitgF8hE_ab) along the way. \n",
    "\n",
    "For all practical purposes this should suffice. But, I would also suggest to read through [Linear Algebra Done Right](https://linear.axler.net)"
   ]
  },
  {
   "cell_type": "markdown",
   "id": "e2f0c303",
   "metadata": {},
   "source": [
    "# Central Objects : Vectors and linear maps"
   ]
  },
  {
   "cell_type": "markdown",
   "id": "abfabc20",
   "metadata": {},
   "source": [
    "Here we will define the lead actors - vectors(objects of study) and linear maps(mappings between these objects)\n",
    "\n",
    "Vector Space : Set of all objects called **vectors** that satisfy some intuitive constraints. Consider the following vector spaces."
   ]
  },
  {
   "cell_type": "markdown",
   "id": "3ca6a5c7",
   "metadata": {},
   "source": [
    "![](my_icons/la2.jpg \"Credit:\")\n",
    "\n",
    "\n",
    "\n",
    "\n",
    "\n",
    "Note the commonality between the following objects. For illustration let's use geometric vectors, that can be seen as pointed arrows within a coordinate axis, represented as a list of numbers.\n",
    "\n",
    "![](my_icons/la1.jpg \"Credit:\")\n",
    "\n",
    "\n",
    "\n",
    "All these satisfy some intuitive properties once we define addition and scalar multiplication. Let's call all such objects **Vectors**\n",
    "\n",
    "![](my_icons/la3.jpg \"Credit:\")\n",
    "\n",
    "\n"
   ]
  },
  {
   "cell_type": "markdown",
   "id": "4b6e9646",
   "metadata": {},
   "source": [
    "Linear Algebra studies the emergent properties of objects once we impose simple properties like commutitivity,associativity etc. Note that we are just formalizing the familiar notions. This helps us discover some very interesting properties as we shall see. \n",
    "\n",
    "In short, we introduced the notion of `vector space` which consists of \n",
    "\n",
    " - A set `X` of vectors\n",
    " - A set `C` of scalars\n",
    " \n",
    " such that vectors are closed that are closed under addition,subtraction and scalar multiplication and satisfies natural associative and distributive laws."
   ]
  },
  {
   "cell_type": "markdown",
   "id": "b3d64928",
   "metadata": {},
   "source": [
    "**Linear Maps**\n",
    "\n",
    "Linear Maps are the functions that map between the elements of the vector space. But not all mappings, only those that satisfy linearity conditions as outlined below:\n",
    "\n",
    "\n",
    "\n",
    "![](my_icons/la4.jpg \"Credit:\")\n",
    "\n",
    "\n",
    "\n"
   ]
  },
  {
   "cell_type": "markdown",
   "id": "e6cb14fc",
   "metadata": {},
   "source": [
    "Now,If you have studied **Linear Algebra**, you might have jumped directly at **geometric vectors** and **matrices**. Below we will take a slightly more abstract approach that will pay dividends when we study arguably the most used decorated area the subject **Matrix Decompositions - SVD and Eigen Value decomposition.**"
   ]
  },
  {
   "cell_type": "markdown",
   "id": "b34a27c5",
   "metadata": {},
   "source": [
    "## Idea 1: Spanning Vectors"
   ]
  },
  {
   "cell_type": "markdown",
   "id": "cafed066",
   "metadata": {},
   "source": [
    "**Big Idea 1**: All the elements of a vector space can be represented succintly as a linear combination of few  a **vectors**. In other words,Irrespective of the vector space (geometric vectors,polynomials, functions etc), there exists a set of few vectors that can be used to generate all the elements of that set. This section builds up the material to prove this fact."
   ]
  },
  {
   "cell_type": "markdown",
   "id": "a1352bc7",
   "metadata": {},
   "source": [
    "**Subspace**\n",
    "\n",
    "There exist a subset of the vector space that also satisfy the properties of the vector space. This will be more clear via examples below.\n",
    "\n",
    "![](my_icons/la4.jpg \"Credit:\")\n",
    "\n"
   ]
  },
  {
   "cell_type": "markdown",
   "id": "4d351539",
   "metadata": {},
   "source": [
    "> Tip: To check if a set forms a valid **Subspace** check if the elements of the set are closed under a.`addition` and b.`zero` element belongs to the set c. closed under scalar multiplication. Rest of the properties(distributivity,associativity etc) are anyways satisfied by definition(as these are subset of the vector space)."
   ]
  },
  {
   "cell_type": "markdown",
   "id": "beac1af3",
   "metadata": {},
   "source": [
    "![](my_icons/la5.jpg \"Credit:\")\n",
    "\n"
   ]
  },
  {
   "cell_type": "markdown",
   "id": "00050dec",
   "metadata": {},
   "source": [
    "Now it is sensible to ask whether by combining two subspaces(UNION,INTERSECTION) can we get another valid subspace. Convince yourself that the `INTERSECTION` of two subspaces is always a subspace which is not the case for `UNION`. If we define the notion `sum of two subspaces` as the collection all elements that can be written as `sum of an element from each subspace`, we note that this set is also a vector space thus a subspace of the original. Also this is the smallest subspace containing both the subspaces (just like how union of two sets in set theory is the smallest set containing both the sets). \n",
    "\n",
    "![](my_icons/la6.jpg \"Credit:\")\n",
    "\n",
    "\n",
    "![](my_icons/la7.jpg \"Credit:\")\n",
    "\n"
   ]
  },
  {
   "cell_type": "markdown",
   "id": "eabe68e7",
   "metadata": {},
   "source": [
    "> Important: Understand the above claims before proceeding."
   ]
  },
  {
   "cell_type": "code",
   "execution_count": null,
   "id": "3ffe7e15",
   "metadata": {},
   "outputs": [],
   "source": []
  }
 ],
 "metadata": {
  "kernelspec": {
   "display_name": "Python 3 (ipykernel)",
   "language": "python",
   "name": "python3"
  },
  "language_info": {
   "codemirror_mode": {
    "name": "ipython",
    "version": 3
   },
   "file_extension": ".py",
   "mimetype": "text/x-python",
   "name": "python",
   "nbconvert_exporter": "python",
   "pygments_lexer": "ipython3",
   "version": "3.9.9"
  }
 },
 "nbformat": 4,
 "nbformat_minor": 5
}
