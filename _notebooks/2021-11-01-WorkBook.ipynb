{
 "cells": [
  {
   "cell_type": "markdown",
   "id": "501e3f2f",
   "metadata": {},
   "source": [
    "# Research notebook \n",
    "\n",
    "- comments: true\n",
    "- categories: [Research]\n",
    "\n"
   ]
  },
  {
   "cell_type": "markdown",
   "id": "f8d54c74",
   "metadata": {},
   "source": [
    "`Note` : The following is my working notes,only to aid my thiniking. Likely not useful for others."
   ]
  },
  {
   "cell_type": "markdown",
   "id": "0d0bf236",
   "metadata": {},
   "source": [
    "## NeuroSymbolic AI"
   ]
  },
  {
   "cell_type": "markdown",
   "id": "4ed72f3a",
   "metadata": {},
   "source": [
    "explicit variable manipulation(local/discrete) vs distributed representations.\n",
    "It is now accepted that learning takes place on a continuous search spaceof (sub)differentiable functions; reasoning takes place in general on a discretespace as in the case of goal-directed theorem proving"
   ]
  },
  {
   "cell_type": "markdown",
   "id": "a67b876b",
   "metadata": {},
   "source": [
    "Applications:\n",
    "\n",
    "Planning(RL)"
   ]
  },
  {
   "cell_type": "markdown",
   "id": "b3ba0c60",
   "metadata": {},
   "source": [
    "A common thread across the above examples and applications is the needfor modellingcause and effectwith the use of implicit information\n",
    "\n",
    "Once a symbolic description of the formif A thenBhas been associated with a neural network, surely the idea ofintervention[9] and counterfactual reasoning become possible"
   ]
  },
  {
   "cell_type": "code",
   "execution_count": null,
   "id": "18f1e9fe",
   "metadata": {},
   "outputs": [],
   "source": []
  }
 ],
 "metadata": {
  "kernelspec": {
   "display_name": "Python 3 (ipykernel)",
   "language": "python",
   "name": "python3"
  },
  "language_info": {
   "codemirror_mode": {
    "name": "ipython",
    "version": 3
   },
   "file_extension": ".py",
   "mimetype": "text/x-python",
   "name": "python",
   "nbconvert_exporter": "python",
   "pygments_lexer": "ipython3",
   "version": "3.9.7"
  }
 },
 "nbformat": 4,
 "nbformat_minor": 5
}
