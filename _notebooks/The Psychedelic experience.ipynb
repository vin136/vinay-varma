{
 "cells": [
  {
   "cell_type": "markdown",
   "id": "c7d92c9a",
   "metadata": {},
   "source": [
    "# Psychedelic experience\n",
    "- badges: true\n",
    "- comments: true\n",
    "- categories: [Think on these]\n",
    "\n"
   ]
  },
  {
   "cell_type": "markdown",
   "id": "90c334f1",
   "metadata": {},
   "source": [
    "There was a strong sense of knowing; nothing in my life had I known with such certainty. It started as mild anxiety which I tried to ignore. Then my blanket morphed into dancing animals. I am inside my room with two dark curtains on either side keeping my room dark. The light one in the middle allows just enough light to make me want to peek outside the window. I couldn't summon myself to do that, or it didn't seem important. I am lying on my bed. I dragged my water bottle, lifted, opened the lid, kept one hand at the top while lifting the bottom. I had to push down with my mouth to make it tilt. I had the strength of a 2-year-old. Suddenly I felt the compulsion to vigorously move my chest back and forth, like possessed by a demon. I was not scared but mildly surprised. This motion though seemed controllable at times was satisfying. Soon accompanied by hysteric laughter, this took a new aura. Psychologically it's a feeling of being bathed in extraordinary realizations far more than my mind can process. The sheer load of the experience felt like my mind expanding in real-time."
   ]
  },
  {
   "cell_type": "code",
   "execution_count": null,
   "id": "45024122",
   "metadata": {},
   "outputs": [],
   "source": []
  }
 ],
 "metadata": {
  "kernelspec": {
   "display_name": "Python 3 (ipykernel)",
   "language": "python",
   "name": "python3"
  },
  "language_info": {
   "codemirror_mode": {
    "name": "ipython",
    "version": 3
   },
   "file_extension": ".py",
   "mimetype": "text/x-python",
   "name": "python",
   "nbconvert_exporter": "python",
   "pygments_lexer": "ipython3",
   "version": "3.9.6"
  }
 },
 "nbformat": 4,
 "nbformat_minor": 5
}
