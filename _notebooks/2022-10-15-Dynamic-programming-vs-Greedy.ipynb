{
 "cells": [
  {
   "cell_type": "markdown",
   "id": "ff4346e9",
   "metadata": {},
   "source": [
    "# Dynamic Programming Patterns\n",
    "> Everything You need to know.\n",
    "- toc: true \n",
    "- badges: true\n",
    "- comments: true\n",
    "- categories: [Programming]\n",
    "\n"
   ]
  },
  {
   "cell_type": "markdown",
   "id": "d0e44ce8",
   "metadata": {},
   "source": [
    "How to solve a problem recursively (SRT BOT)\n",
    "\n",
    "1. Subproblem definition\n",
    "2. Relate subproblem solutions recursively\n",
    "3. Topological order on subproblems (⇒ subproblem DAG)\n",
    "4. Base cases of relation\n",
    "5. Original problem solution via subproblem(s)\n",
    "6. Time analysis "
   ]
  },
  {
   "cell_type": "markdown",
   "id": "2c365ee6",
   "metadata": {},
   "source": [
    "## 1D Dynamic programming"
   ]
  },
  {
   "cell_type": "markdown",
   "id": "59bdcbe0",
   "metadata": {},
   "source": [
    "### 1. Weighted Interval scheduling\n",
    "\n",
    "Input: 'n' jobs with $(s_i,f_i)$ each with weight $w_i$\n",
    "\n",
    "Output: Max # jobs s.t a. No overlap b. Max weight"
   ]
  },
  {
   "cell_type": "markdown",
   "id": "1458bffc",
   "metadata": {},
   "source": [
    "**Key Idea**: Each interval can either be part of the `opt` or not\n",
    "\n",
    "Assump: Let the intervals be sorted by finish time and indexed 1 to n.\n",
    "\n",
    "S: opt(i) => opt for (i,n)\n",
    "\n",
    "R: opt(i) = max(opt(i+1),w_i + opt(k)), where k is the first index that is not overlapping.\n",
    "\n",
    "T: increasing i\n",
    "\n",
    "B: i = n+1 (out of bounds), => opt(n+1) = 0\n",
    "\n",
    "O: opt(1)\n",
    "\n",
    "T: O(n^2), if binar search O(n*log(n))"
   ]
  },
  {
   "cell_type": "markdown",
   "id": "3a2877b6",
   "metadata": {},
   "source": [
    "### 2. Longest Increasing subsequence.\n",
    "\n",
    "Input: an array of numbers `arr`.\n",
    "\n",
    "Output: length of LIS"
   ]
  },
  {
   "cell_type": "markdown",
   "id": "02c3fcec",
   "metadata": {},
   "source": [
    "**Key Idea**: We don't know the starting point. So check all possibilities\n",
    "\n",
    "S: LIS(i), LIS with index `arr[i]` as the starting point(it including in the optimal solution)\n",
    "\n",
    "R: LIS(i) = \n",
    "\n",
    "max( arr(i)< arr(k), s.t k>i,\n",
    "LIS(k)+1)\n",
    "\n",
    "\n",
    "\n",
    "T: decreasing i\n",
    "\n",
    "B: i = n+1 (out of bounds), => LIS(n+1) = 0\n",
    "\n",
    "\n",
    "O: max(LIS(i))\n",
    "\n",
    "T: O(n^2)"
   ]
  },
  {
   "cell_type": "markdown",
   "id": "ea4a9eab",
   "metadata": {},
   "source": [
    "### 3. Rod Cutting"
   ]
  },
  {
   "cell_type": "code",
   "execution_count": null,
   "id": "b1fd5298",
   "metadata": {},
   "outputs": [],
   "source": []
  },
  {
   "cell_type": "markdown",
   "id": "c9a58f5c",
   "metadata": {},
   "source": [
    "### 4. Bowling\n",
    "\n",
    "Given n pins labeled 0, 1, . . . , n − 1\n",
    "\n",
    "Pin i has value $v_i$\n",
    "\n",
    "Ball of size similar to pin can hit either\n",
    " -  1 pin i, in which case we get vi points\n",
    " - 2 adjacent pins i and i + 1, in which case we get vi · vi+1 points\n",
    "\n",
    "Once a pin is hit, it can’t be hit again (removed)\n",
    "\n",
    "Problem: Throw zero or more balls to maximize total points\n",
    "\n",
    "Example: [ −1, |1| ,| 1| , |1| , |9, 9| , |3| , |−3, −5 |, |2, 2| ]"
   ]
  },
  {
   "cell_type": "markdown",
   "id": "0c9b96ff",
   "metadata": {},
   "source": [
    "**Key Idea**: In optimal solution each pin(i) is either hit at i, or i,i+1 or not hit\n",
    "\n",
    "\n",
    "S: MAXBOWL(i), max for i,n.\n",
    "\n",
    "\n",
    "iterative solution (bottom up)\n",
    "\n",
    "2 def bowl(v):\n",
    "\n",
    "3 B = {}\n",
    "\n",
    "4 B[len(v)] = 0 # base cases\n",
    "\n",
    "5 B[len(v)+1] = 0\n",
    "\n",
    "6 for i in reversed(range(len(v))): \n",
    "\n",
    "\n",
    "7 B[i] = max(\n",
    "\n",
    "B[i+1], # relation: skip pin i\n",
    "\n",
    "8 v[i] + B(i+1), # OR bowl pin i separately\n",
    "\n",
    "9 v[i] * v[i+1] + B(i+2)) # OR bowl pins i and i+1 together\n",
    "\n",
    "10 return B[0]"
   ]
  },
  {
   "cell_type": "markdown",
   "id": "e33159df",
   "metadata": {},
   "source": [
    "### Additional problems\n",
    "\n",
    "\n",
    "1. Given an array A of n integers, what is the largest sum of any nonempty subarray?\n",
    "(in this class, subarray always means a contiguous sequence of elements)\n",
    "Example: A = [-9, 1, -5, 4, 3, -6, 7, 8, -2], largest subsum is 16\n",
    "\n",
    "sol: x(k): the max subarray sum ending at A[k]"
   ]
  },
  {
   "cell_type": "markdown",
   "id": "3d251860",
   "metadata": {},
   "source": [
    "## 2-d DP"
   ]
  },
  {
   "cell_type": "markdown",
   "id": "f58ff621",
   "metadata": {},
   "source": [
    "**ASIDE: KNACPSACK,SUBSET SUMS**"
   ]
  },
  {
   "cell_type": "markdown",
   "id": "5be0bb94",
   "metadata": {},
   "source": [
    "1. Subset Sum \n",
    "\n",
    "• Input: Set of n positive integers A[i]\n",
    "\n",
    "• Output: Is there subset A0 ⊂ A such that it sums to S• Can solve with dynamic programming in O(nS) time"
   ]
  },
  {
   "cell_type": "markdown",
   "id": "33e111b5",
   "metadata": {},
   "source": [
    "**variants**\n",
    "\n",
    "1. Partition - Given a set of n positive integers A, describe an algorithm to determine whether A can be partitioned into two non-intersecting subsets A1 and A2 of equal sum, i.e. A1 ∩ A2 = ∅ and A1 ∪ A2 = A such that Pa∈A1 a = Pa∈A2 a.\n",
    "Example: A = {1, 4, 3, 12, 19, 21, 22} has partition A1 = {1, 19, 21}, A2 = {3, 4, 12, 22}.\n",
    "\n",
    "sol: run subset sum on sigma(A)/2.\n",
    "\n",
    "\n",
    "2. Close Partition - Given a set of n positive integers A, describe an algorithm to find a partition of A into two non-intersecting subsets A1 and A2 such that the difference between their respective sums are minimized.\n",
    "\n",
    "\n",
    "Run subset sum dynamic program as above, but evaluate for every S0 ∈ {0, . . . , 1 P a}, 2 a∈A\n",
    "and return the largest S0 such that the subset sum dynamic program returns true. Note that this still only takes O(nS) time: O(nS) to compute all subproblems, and then O(nS) time again to loop over the subproblems to find the max true S0.\n",
    "\n",
    "\n",
    "3. For negative values"
   ]
  },
  {
   "cell_type": "markdown",
   "id": "281bed75",
   "metadata": {},
   "source": [
    "**Knacpsack**\n",
    "\n",
    "Example: Items {(si, vi)} = {(6, 6), (9, 9), (10, 12)}, S = 15\n",
    "\n",
    "\n",
    "1. Subproblems\n",
    "\n",
    "• Idea: Is last item in an optimal knapsack? (Guess!)\n",
    "• If yes, get value vi and pack remaining space S − si using remaining items • If no, then try to sum to S using remaining items\n",
    "• x(i, j): maximum value by packing knapsack of size j using items 1 to i\n",
    "2. Relate\n",
    "\n",
    "• x(i,j)=max i i i\n",
    "(v+x(i−1,j−s) ifj≥s ) x(i − 1, j) always\n",
    "• for i ∈ {0,...,n},j ∈ {0,...,S} 3. Topo\n",
    "• Subproblems x(i, j) only depend on strictly smaller i, so acyclic 4. Base\n",
    "• x(i,0) = 0 for i ∈ {0,...,n} (zero value possible if no more space) • x(0,j) = 0 for j ∈ {1,...,S} (zero value possible if no more items)\n",
    "\n",
    "5. Original\n",
    "\n",
    "• Solve subproblems via recursive top down or iterative bottom up • Maximum evaluated expression is given by x(n, S)\n",
    "• Store parent pointers to reconstruct items to put in knapsack\n",
    "\n",
    "6. Time\n",
    "\n",
    "• # subproblems: O(nS)\n",
    "• work per subproblem O(1) • O(nS) running time"
   ]
  },
  {
   "cell_type": "markdown",
   "id": "2602d7dc",
   "metadata": {},
   "source": [
    "## 1. Given a string s, return the longest palindromic subsequence in s."
   ]
  },
  {
   "cell_type": "markdown",
   "id": "f070f32d",
   "metadata": {},
   "source": [
    "**Key Idea**: Define subproblem with two indices [i,j]\n",
    "\n",
    "S: LPS(i,j) between those indices\n",
    "\n",
    "R: LPS(i) = \n",
    "\n",
    "If arr[i] == arr[j]\n",
    "2+ LPS(i+1,j-1)\n",
    "\n",
    "else:\n",
    "    max(LPS(i+1,j),LPS(i,j-1))\n",
    "    \n",
    "    \n",
    "\n",
    "T: from bottom left to right\n",
    "\n",
    "B: i==j => 1\n",
    "\n",
    "\n",
    "O: LPS(1,n)\n",
    "\n",
    "T: O(n^2)"
   ]
  },
  {
   "cell_type": "markdown",
   "id": "40dd8719",
   "metadata": {},
   "source": [
    "### 2. ARTHMETIC PARENTHESIZATION\n",
    "\n",
    "Input: arithmetic expression a0 $∗_1$ a1 $∗_2$ a2 · · · $∗_{n-1}$ an−1\n",
    "where each $a_i$ is an integer and each ∗i ∈ {+, ×}\n",
    "\n",
    "Output: Where to place parentheses to maximize the evaluated expression\n",
    "\n",
    "Example: 7 + 4 × 3 + 5 → ((7) + (4)) × ((3) + (5)) = 88\n",
    "\n",
    "Allow negative integers!\n",
    "Example: 7 + (−4) × 3 + (−5) → ((7) + ((−4) × ((3) + (−5)))) = 15"
   ]
  },
  {
   "cell_type": "markdown",
   "id": "38e91bf0",
   "metadata": {},
   "source": [
    "**Key Idea** : We can try to split at all the points, and evaluate. Calculate both min and max for those and keep track of them.\n",
    "\n",
    "1. Subproblems\n",
    "\n",
    "• Sufficient to maximize each subarray? No! (−3) × (−3) = 9 > (−2) × (−2) = 4\n",
    "• x(i, j, opt) = opt value obtainable by parenthesizing ai ∗i+1 · · · ∗j−1 aj−1\n",
    "• For 0 ≤ i < j ≤ n and opt ∈ {min, max}\n",
    "\n",
    "2. Relate\n",
    "\n",
    "• Guess location of outermost parentheses / last operation evaluated\n",
    "• x(i, j, opt) = opt {x(i, k, opt0\n",
    ") ∗k x(k, j, opt00)) | i < k < j; opt0\n",
    ", opt00 ∈ {min, max}}\n",
    "\n",
    "3. Topological order\n",
    "\n",
    "• Increasing j − i: subproblem x(i, j, opt) depends only on strictly smaller j − i\n",
    "\n",
    "4. Base\n",
    "\n",
    "• x(i, i + 1, opt) = ai, only one number, no operations left!\n",
    "\n",
    "5. Original problem\n",
    "\n",
    "• X(0, n, max)\n",
    "• Store parent pointers (two!) to find parenthesization (forms binary tree!)\n",
    "\n",
    "6. Time\n",
    "\n",
    "2 • # subproblems: less than n · n · 2 = O(n )\n",
    "• work per subproblem O(n) · 2 · 2 = O(n)\n",
    "• O(n3) running time \n",
    "\n"
   ]
  },
  {
   "cell_type": "code",
   "execution_count": null,
   "id": "60a8e6e6",
   "metadata": {},
   "outputs": [],
   "source": [
    "### 3. LCS"
   ]
  },
  {
   "cell_type": "code",
   "execution_count": 23,
   "id": "c0f227f4",
   "metadata": {},
   "outputs": [],
   "source": [
    "### 4. EDIT DISTANCE"
   ]
  },
  {
   "cell_type": "code",
   "execution_count": 24,
   "id": "1ff96acc",
   "metadata": {},
   "outputs": [],
   "source": [
    "### 5. Matrix CHain multiplication"
   ]
  },
  {
   "cell_type": "code",
   "execution_count": 25,
   "id": "5dbb4a5d",
   "metadata": {},
   "outputs": [],
   "source": [
    "### 6. Min weight triangulation"
   ]
  },
  {
   "cell_type": "code",
   "execution_count": 26,
   "id": "d5b0ee6c",
   "metadata": {},
   "outputs": [],
   "source": [
    "### 7. Optimal Binary search tree"
   ]
  },
  {
   "cell_type": "markdown",
   "id": "dad60f19",
   "metadata": {},
   "source": [
    "# Greedy Algorithms"
   ]
  },
  {
   "cell_type": "markdown",
   "id": "fa75c7cc",
   "metadata": {},
   "source": [
    "## 1. Interval Scheduling\n",
    "\n",
    "Input: Given $(s_i,f_i)$,select max non overlapping intervals\n",
    "\n",
    "Sol: Sort by $f_i$ time and then take the first one.\n",
    "\n",
    "**Argument: Stay ahead or no worse argument.**\n"
   ]
  },
  {
   "cell_type": "markdown",
   "id": "8c4bf68c",
   "metadata": {},
   "source": [
    "## 2. Minimize the Max lateness\n",
    "\n",
    "Input: Given $(t_i,d_i)$ \n",
    "\n",
    "Output: Give scheduling of these intervals such that the max penalty $d_i-f_i$ is minimized"
   ]
  },
  {
   "cell_type": "markdown",
   "id": "2296d3cc",
   "metadata": {},
   "source": [
    "Sol: Perform by deadline\n",
    "    \n",
    "Arg: **Exchange argument.**\n",
    "    \n",
    "Let there be an ordering in opt, and our ordering be indexed by ${1,2,\\dots n}$ following transformations won't reduce optimality\n",
    "\n",
    "1. Remove any gaps on opt\n",
    "\n",
    "2. Now change any permutation by swapping two adj indices if they are not increasing.\n",
    "\n",
    "Both the changes doesn't increase the objective thus we transform any `opt` to our solution."
   ]
  },
  {
   "cell_type": "markdown",
   "id": "294081b1",
   "metadata": {},
   "source": [
    "## 3. Optimal Caching\n",
    "\n",
    "Input: Given a sequence of `n` requests, and currest cache `k`, give the optimal eviction to minimize the #misses.\n",
    "\n",
    "Solution: Evict the farthest in schedule.\n",
    "\n",
    "Eg: consider a,b,c,d,a,d,e,a,d,b,c and let k= 3 and initial cache be `{a, b, c}`\n",
    "\n",
    "The Farthest-in-Future rule will produce a schedule S that evicts c on the fourth step and b on the seventh step."
   ]
  },
  {
   "cell_type": "code",
   "execution_count": null,
   "id": "7549e566",
   "metadata": {},
   "outputs": [],
   "source": []
  }
 ],
 "metadata": {
  "kernelspec": {
   "display_name": "Python 3 (ipykernel)",
   "language": "python",
   "name": "python3"
  },
  "language_info": {
   "codemirror_mode": {
    "name": "ipython",
    "version": 3
   },
   "file_extension": ".py",
   "mimetype": "text/x-python",
   "name": "python",
   "nbconvert_exporter": "python",
   "pygments_lexer": "ipython3",
   "version": "3.9.9"
  }
 },
 "nbformat": 4,
 "nbformat_minor": 5
}
