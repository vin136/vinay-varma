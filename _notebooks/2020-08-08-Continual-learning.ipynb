{
 "cells": [
  {
   "cell_type": "markdown",
   "metadata": {},
   "source": [
    "# Continual Learning\n",
    "> A tutorial Survey\n",
    "- toc: true \n",
    "- badges: true\n",
    "- comments: true\n",
    "- categories: [Research,Artificial General Intelligence]"
   ]
  },
  {
   "cell_type": "markdown",
   "metadata": {},
   "source": [
    "# Introduction\n",
    "\n",
    "The objective of this work is to provide a coherent picture of `Continual Learning` in the context of Neural Networks. I hope that this would serve as a launch pad for further investigations of the reader."
   ]
  },
  {
   "cell_type": "markdown",
   "metadata": {},
   "source": [
    "# Continual Learning\n",
    "\n",
    "Modern Deep Learning systems,in general, deal exclusively with iid data.If our grand objective is to build General Intelligence,then it is mandatory for a single system to learn multiple tasks. Here , We will start with the general setting of continual learning and then begin to investigate how various features of the problem are solved by current methods.\n",
    "\n",
    "> Note : None of the known methods satisfactorily solve Continual Learning problem in it's General Setting.\n",
    "\n",
    "```\n",
    "Continual Learning : The General Setting\n",
    "\n",
    "Optimize a defined loss function under Infinite Stream of Data,without any explicit distinction between tasks. \n",
    "\n",
    "Note : Here 'task' is artificially introduced to represent variation in data distribution and even loss function.\n",
    "\n",
    "```\n",
    "\n",
    "The following are the desirable features of the learning scheme:\n",
    "\n",
    "1. `Fixed Memory` : Memory requirements cannot grow with each additional task.\n",
    "\n",
    "2. `No Task Boundary` : Learn from the input data without explicitly defining task boundary increases the flexibility of the method and also reflects real-world setting.\n",
    "\n",
    "3. `Online Learning` :  No offline storing of data.(i.e training with large batches for multiple epochs)\n",
    "\n",
    "4. `Forward Transfer` : Previous tasks should ease the learning on new tasks.\n",
    "\n",
    "5. `Backward Transfer` : Upon Learning future tasks, performance on correspondingly related past tasks should improve.\n",
    "\n",
    "6. `Problem Agnostic` : Should be flexible enough to work with different loss functions.\n"
   ]
  },
  {
   "cell_type": "markdown",
   "metadata": {},
   "source": [
    "## Approaches "
   ]
  },
  {
   "cell_type": "markdown",
   "metadata": {},
   "source": [
    "![](my_icons/deep-learning.png)\n"
   ]
  },
  {
   "cell_type": "markdown",
   "metadata": {},
   "source": [
    "The approaches taken can be broadly categorized into three groups {% fn 1 %}:\n",
    "\n",
    "{{ '[arXiv:1905.12588](https://arxiv.org/abs/1905.12588)!' | fndetail: 1 }}\n",
    "\n",
    "1. Modify the Update Rule\n",
    "\n",
    "2. Replay methods\n",
    "\n",
    "3. Use Semi-distributed representations"
   ]
  },
  {
   "cell_type": "code",
   "execution_count": null,
   "metadata": {},
   "outputs": [],
   "source": []
  },
  {
   "cell_type": "markdown",
   "metadata": {},
   "source": [
    "For example, here is a footnote {% fn 1 %}.\n",
    "And another {% fn 2 %}\n",
    "{{ 'This is the footnote.' | fndetail: 1 }}\n",
    "{{ 'This is the other footnote. You can even have a [link](https://arxiv.org/abs/1905.12588)!' | fndetail: 2 }}"
   ]
  },
  {
   "cell_type": "markdown",
   "metadata": {},
   "source": [
    "h<sub>&theta;</sub>(x) = &theta;<sub>o</sub> x + &theta;<sub>1</sub>x"
   ]
  },
  {
   "cell_type": "markdown",
   "metadata": {},
   "source": [
    "h<sub>&theta;</sub>(x) = &theta;<sub>o</sub> x + &theta;<sub>1</sub>x"
   ]
  }
 ],
 "metadata": {
  "kernelspec": {
   "display_name": "Python 3",
   "language": "python",
   "name": "python3"
  },
  "language_info": {
   "codemirror_mode": {
    "name": "ipython",
    "version": 3
   },
   "file_extension": ".py",
   "mimetype": "text/x-python",
   "name": "python",
   "nbconvert_exporter": "python",
   "pygments_lexer": "ipython3",
   "version": "3.7.6"
  }
 },
 "nbformat": 4,
 "nbformat_minor": 2
}
