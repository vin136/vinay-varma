{
 "cells": [
  {
   "cell_type": "markdown",
   "metadata": {},
   "source": [
    "# Create a routine\n",
    "\n",
    "- comments: true\n",
    "- categories: [productivity]\n"
   ]
  },
  {
   "cell_type": "markdown",
   "metadata": {},
   "source": [
    "Create a routine. Else you will be put in one. Exercise your freedom to choose what you want to do. Repeating the same steps every day is the only way to gain mastery. It is by building this reservoir of work you can sustainably stick with it. This is your ticket to freedom. Uncommitted become the slaves of norms. They will always be struggling to escape, always at odds with reality. start with your body. Have an exercise routine that can be maintained. Next, Work. Choose what you want more of and create a routine around it. Do not be tempted to fit too much here. Slowly you will develop expertise and confidence that will let you do more of it."
   ]
  },
  {
   "cell_type": "code",
   "execution_count": null,
   "metadata": {},
   "outputs": [],
   "source": []
  }
 ],
 "metadata": {
  "kernelspec": {
   "display_name": "Python 3 (ipykernel)",
   "language": "python",
   "name": "python3"
  },
  "language_info": {
   "codemirror_mode": {
    "name": "ipython",
    "version": 3
   },
   "file_extension": ".py",
   "mimetype": "text/x-python",
   "name": "python",
   "nbconvert_exporter": "python",
   "pygments_lexer": "ipython3",
   "version": "3.9.7"
  }
 },
 "nbformat": 4,
 "nbformat_minor": 4
}
