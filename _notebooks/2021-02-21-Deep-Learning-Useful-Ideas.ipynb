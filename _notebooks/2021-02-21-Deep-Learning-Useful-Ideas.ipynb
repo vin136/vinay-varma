{
 "cells": [
  {
   "cell_type": "markdown",
   "metadata": {},
   "source": [
    "# Deep Learning\n",
    "> A catalogue of not so deep ideas in Deep Learning.\n",
    "- toc: true \n",
    "- badges: true\n",
    "- comments: true\n",
    "- categories: [Research]\n"
   ]
  },
  {
   "cell_type": "markdown",
   "metadata": {},
   "source": [
    "Deep Learning is a collection of techniques for finding functions that can approximate arbitrary input-output mappings, while capturing enough structure of the problem to be able to use them in practical applicatons.language-translation systems,Image classification,Movie Recommendation systems are Some notable applications where they have become defacto-choice. This is by no means an exhaustive treatment of the field. Here I provide concise summaries,followed by a simple implementation of some of the most interesting ideas in the field. I believe that many things in the field are unnecessarily complicated by lengthy treatment where a readable code and short explanation will suffice. "
   ]
  },
  {
   "cell_type": "markdown",
   "metadata": {},
   "source": [
    "`Note` : This is not intended to be the first introduction to deep learning. Here I wanted to succintly catalogue some the latest advancements in the field. But, respecting tradition the first module starts from the basics. Only hard prerequisite is to have a good intuition of `matrix multiplication` notion of `taking a derivative`."
   ]
  },
  {
   "cell_type": "markdown",
   "metadata": {},
   "source": [
    "## Basics"
   ]
  },
  {
   "cell_type": "markdown",
   "metadata": {},
   "source": [
    "Many deep learning models follow a simple recipe:\n",
    "\n",
    "    1. Gather the data.\n",
    "    2. Define learnable parameters. And specify how they will interact with the data.(architecture)\n",
    "    3. Define a loss function to minimize.\n",
    "    4. Adjust the parameters until satisfied."
   ]
  },
  {
   "cell_type": "markdown",
   "metadata": {},
   "source": [
    "### Train a linear regression model using gradient-descent."
   ]
  },
  {
   "cell_type": "markdown",
   "metadata": {},
   "source": [
    "Here we will see how we can perform all the above steps starting with the most barebones implementation. Note that the procedure outlined here is general purpose - meaning the way we adjust `parameters` is going to remain same irrecpective of the modality of the data, details of the loss function or the architecture.\n",
    "\n",
    "Step 1. Gather the data\n",
    "\n",
    "Let's generate some fake data.Let's assume that the data is coming from $y = 2*x1 - 4.2*x2 + 1 + noise(measurement error)$. This can be more succintly represented in vector notation :\n",
    "$$y = \\begin{bmatrix} x1 \\\\ x2 \\end{bmatrix} . \\begin{bmatrix} 2 \\\\ -4.2 \\end{bmatrix} + 1$$\n",
    "\n",
    "\n",
    "    \n"
   ]
  },
  {
   "cell_type": "code",
   "execution_count": 1,
   "metadata": {},
   "outputs": [
    {
     "data": {
      "text/plain": [
       "((1000, 2), (1000, 1))"
      ]
     },
     "execution_count": 1,
     "metadata": {},
     "output_type": "execute_result"
    }
   ],
   "source": [
    "import numpy as np\n",
    "def get_data(*params,const=None,rows=1000):\n",
    "    #number of features in the input\n",
    "    dim = len(params)\n",
    "    x = np.random.normal(0,0.3,(rows,dim))\n",
    "    y = x@np.array([params]).T\n",
    "    if const:\n",
    "        y += np.array([const])\n",
    "    return x,y\n",
    "\n",
    "x,y = get_data(2,-4.2,const=1)\n",
    "\n",
    "x.shape,y.shape"
   ]
  },
  {
   "cell_type": "markdown",
   "metadata": {},
   "source": [
    "Step 2. Define learnable parameters. And specify how they will interact with the data.(architecture)\n",
    "\n",
    "Now we aim to learn the right coefficients to approximate the data generation process. First let's look at some code."
   ]
  },
  {
   "cell_type": "code",
   "execution_count": 2,
   "metadata": {},
   "outputs": [
    {
     "data": {
      "text/plain": [
       "2.121630476687219"
      ]
     },
     "execution_count": 2,
     "metadata": {},
     "output_type": "execute_result"
    }
   ],
   "source": [
    "# Start with a random guess that respects the sanctity of the data.i.e our inputs are of dimension 1000*2 \n",
    "# outputs are 1000*1. Multiplying inputs by a 2*1 matrix(weights) and adding a constant(bias) is the simplest way\n",
    "# to ensure an output of 1000*1. \n",
    "\n",
    "# initial guess\n",
    "init_weights = np.array([[0.,-1.]]) #shape -> 1*2\n",
    "init_bias = np.array([0.])\n",
    "\n",
    "#expected output\n",
    "def give_expected_output(inpt,weights,bias):\n",
    "    return ((inpt@weights.T) + bias)\n",
    "\n",
    "out = give_expected_output(x,init_weights,init_bias)#shape -> 1000*1\n",
    "\n",
    "def get_error(out,expected_out):\n",
    "    return np.mean((expected_out - out)**2)\n",
    "\n",
    "get_error(out,y) # IF WE CAN DRIVE THIS NUMBER DOWN TO ZERO VIA A GENERAL PURPOSE PROCESS,WE ARE GOOD TO GO"
   ]
  },
  {
   "cell_type": "code",
   "execution_count": 3,
   "metadata": {},
   "outputs": [],
   "source": [
    "def get_grads(weights,bias,x,y,loss_func='squared_loss'):\n",
    "    if loss_func == 'squared_loss':\n",
    "        weights_grad = 2*np.mean((x@weights.T + bias - y)*weights)\n",
    "        bias_grad = 2*np.mean((x@weights.T + bias - y))\n",
    "    else:\n",
    "        print(\"Sorry I'm not yet scalable enough for arbitrary loss functions\")\n",
    "    return weights_grad,bias_grad\n",
    "        \n",
    "\n",
    "\n",
    "grad_init_weights,grad_bias = get_grads(init_weights,init_bias,x,y,loss_func = 'squared_loss')\n",
    "\n",
    "def learn(x,y,init_weights,init_bias,loss_func,lr=0.001,epochs=5000):\n",
    "    out = give_expected_output(x,init_weights,init_bias)\n",
    "    error = loss_func(out,y)\n",
    "    #print(f'initial error, epoch 0: {error}')\n",
    "    errors = [error]\n",
    "    pres_lr = lr\n",
    "    for i in range(epochs):\n",
    "        weight_grad,bias_grad = get_grads(init_weights,init_bias,x,y)\n",
    "        init_weights -= weight_grad*pres_lr\n",
    "        init_bias -= bias_grad*pres_lr\n",
    "        out = give_expected_output(x,init_weights,init_bias)\n",
    "        error = loss_func(out,y)\n",
    "        if np.mean(weight_grad)<0.0001:\n",
    "            pres_lr = pres_lr*2\n",
    "        errors.append(error)\n",
    "    return errors,init_weights,init_bias\n",
    "        "
   ]
  },
  {
   "cell_type": "code",
   "execution_count": 4,
   "metadata": {},
   "outputs": [
    {
     "data": {
      "text/plain": [
       "[<matplotlib.lines.Line2D at 0x7f2be3ea9df0>]"
      ]
     },
     "execution_count": 4,
     "metadata": {},
     "output_type": "execute_result"
    },
    {
     "data": {
      "image/png": "[encoded data removed]",
      "text/plain": [
       "<Figure size 432x288 with 1 Axes>"
      ]
     },
     "metadata": {
      "needs_background": "light"
     },
     "output_type": "display_data"
    }
   ],
   "source": [
    "errors,final_weights,final_bias = learn(x,y,init_weights,init_bias,get_error)\n",
    "%matplotlib inline\n",
    "import matplotlib.pyplot as plt\n",
    "plt.plot(errors)"
   ]
  },
  {
   "cell_type": "code",
   "execution_count": 5,
   "metadata": {},
   "outputs": [
    {
     "data": {
      "text/plain": [
       "(array([[-0.82604061, -1.82604061]]), array([0.97582166]))"
      ]
     },
     "execution_count": 5,
     "metadata": {},
     "output_type": "execute_result"
    }
   ],
   "source": [
    "final_weights,final_bias"
   ]
  },
  {
   "cell_type": "markdown",
   "metadata": {},
   "source": [
    "## Deep RL Methods"
   ]
  },
  {
   "cell_type": "markdown",
   "metadata": {},
   "source": [
    "### Motivation"
   ]
  },
  {
   "cell_type": "markdown",
   "metadata": {},
   "source": [
    "Deep Learning allows for learning generalizable mappings between input and output. In supervised setting we are given a `fixed dataset` D = {$(x_{i},y_{i})$},and are tasked to predict $y_{i}$ using $x_{i}$. Thus, we know groud truth for all the input data. This let's us formulate a `loss` that reflects our dissatisfaction with the predicted `outputs` and optimize over it. But, consider how we learn to perform any new task ? The dataset and the learning signal comes sequentially and is also dependent on our actions. We don't have prepared datasets in real life. We learn from experience. `RL` deals with learning under this natural setting. The key difference to note is that the dataset is not `constant`, It changes everytime, contingent on your actions and the stochasticity in the environment. To make this clear, consider learning to play a video game. The pixels (call it `state`) and the score you receive ( call it `reward`) cannot be predetermined until you actually go through the experience. Here the dataset D = {$(state_{i},reward_{i})$} is not same everytime you play the game. `RL` provides a formalism for learning optimal decision making. This will become clear when we see some concrete examples and code. But combing these techniques with `Neural networks` has given us general algorithms that `learn to play atari games`, `beat world champions at Go` and `train robots to learn simple tasks`.\n",
    "![](my_icons/rlsuc.png \"Credit: http://rail.eecs.berkeley.edu/deeprlcourse/static/slides/lec-1.pdf\")"
   ]
  },
  {
   "cell_type": "markdown",
   "metadata": {},
   "source": [
    "### Problem"
   ]
  },
  {
   "cell_type": "markdown",
   "metadata": {},
   "source": [
    "Consider the Following optimization problem. Find the shortest path from state $s_0$ to goal $g$,where the edges indicate the cost/distance ?\n",
    "\n",
    "![](my_icons/sp.png \"Credit: https://nanjiang.cs.illinois.edu/files/cs598/slides_intro_f20.pdf\")"
   ]
  },
  {
   "cell_type": "code",
   "execution_count": null,
   "metadata": {},
   "outputs": [],
   "source": []
  }
 ],
 "metadata": {
  "kernelspec": {
   "display_name": "Python 3",
   "language": "python",
   "name": "python3"
  },
  "language_info": {
   "codemirror_mode": {
    "name": "ipython",
    "version": 3
   },
   "file_extension": ".py",
   "mimetype": "text/x-python",
   "name": "python",
   "nbconvert_exporter": "python",
   "pygments_lexer": "ipython3",
   "version": "3.8.5"
  }
 },
 "nbformat": 4,
 "nbformat_minor": 2
}
