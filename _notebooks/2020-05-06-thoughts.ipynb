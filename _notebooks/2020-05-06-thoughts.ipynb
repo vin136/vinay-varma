{
 "cells": [
  {
   "cell_type": "code",
   "execution_count": null,
   "metadata": {},
   "outputs": [],
   "source": []
  },
  {
   "cell_type": "markdown",
   "metadata": {},
   "source": [
    "- trying neil gaiman's technique of blocking out fixed periods of time daily where i'm allowed to not write if i wish but not allowed to do anything else.(30 mins).For the time being the objective of this practice in improve my personal writing skills - i.e write a readable prose,extra points if also delightful.Hoping to eventually tease out more concrete practice session...aka with some measurable metrics.Some important areas to work on:\n",
    "- 1.Clarity in writing.(as it reflects,clarity of thought)\n",
    "\n",
    "\n",
    "Summary of the day:\n",
    "\n",
    "I have tried out a more engaging approach to learning mathematics - solve problems.I have found a nice book on analysis and an accompanying problem book.I seem to have enjoyed teasing out some problems from the first chapter.Surely,this is more engaging.\n",
    "\n",
    "Personal interview :\n",
    "How my philosophy of health has changed over the years?\n",
    "\n",
    "Ok, let me reel back to as far into past I can. I think I don't have the slightest clue during my high school for sure. I used to eat a typical south Indian diet which involves feeding in copious amounts of refined flour(rice, wheat.).And the protein intake is laughable at best. As expected, I used to feel hungry right after eating. I felt good about it. I somehow felt that it translates as growth. During my high-school, especially in the later years, after class 10th, I hardly had time to even surf the internet casually. We were busy preparing for the entrance exam called IIT-JEE(consider them the ivy league of Indian universities just 10 times more competitive). The psychological turmoil during that period is for some other time. I have always had an addiction to reading. I read compulsively. Well, on anything with the slight influence of my mood to steer. That's when I first read Tim Ferriss and some folks on his podcast like peter Attia. I don't remember how I stumbled on the bulletproof guy, but I kind of fancied his books as they seem to have the right amount of 'look I'm different and also right' kind of air about them. So, I picked up on keto and read further. (David Perlmutter-Author of Grain Brain).Well, presently I take two meals a day, with no grains or flours. Unlimited amount of unadulterated foods. (meat, veggies, and fruit) conditioned on availability and taste. Some times I randomly skip meals all day. The next day, I ensure to start with an intense workout followed by a ravenous feeding session. One good rule of thumb is don't eat anything that came into existence in the last 100 years or so and hasn't been before - all packaged and processed foods, sugar."
   ]
  },
  {
   "cell_type": "code",
   "execution_count": 10,
   "metadata": {},
   "outputs": [
    {
     "data": {
      "text/plain": [
       "'weight'"
      ]
     },
     "execution_count": 10,
     "metadata": {},
     "output_type": "execute_result"
    }
   ],
   "source": [
    "\"weight\"+str(\"\")\n",
    "target.model"
   ]
  },
  {
   "cell_type": "code",
   "execution_count": 8,
   "metadata": {},
   "outputs": [
    {
     "ename": "KeyError",
     "evalue": "'str(i)'",
     "output_type": "error",
     "traceback": [
      "\u001b[0;31m---------------------------------------------------------------------------\u001b[0m",
      "\u001b[0;31mKeyError\u001b[0m                                  Traceback (most recent call last)",
      "\u001b[0;32m<ipython-input-8-8197ad1f9fec>\u001b[0m in \u001b[0;36m<module>\u001b[0;34m\u001b[0m\n\u001b[1;32m      1\u001b[0m \u001b[0mi\u001b[0m\u001b[0;34m=\u001b[0m\u001b[0;36m1\u001b[0m\u001b[0;34m\u001b[0m\u001b[0;34m\u001b[0m\u001b[0m\n\u001b[0;32m----> 2\u001b[0;31m \u001b[0;34m\"hi{str(i)}\"\u001b[0m\u001b[0;34m.\u001b[0m\u001b[0mformat\u001b[0m\u001b[0;34m(\u001b[0m\u001b[0mi\u001b[0m\u001b[0;34m)\u001b[0m\u001b[0;34m\u001b[0m\u001b[0;34m\u001b[0m\u001b[0m\n\u001b[0m",
      "\u001b[0;31mKeyError\u001b[0m: 'str(i)'"
     ]
    }
   ],
   "source": [
    "i=1\n",
    "\"hi{str(i)}\".format(i)"
   ]
  },
  {
   "cell_type": "code",
   "execution_count": 1,
   "metadata": {},
   "outputs": [],
   "source": [
    "import pandas as pd"
   ]
  },
  {
   "cell_type": "code",
   "execution_count": 2,
   "metadata": {},
   "outputs": [],
   "source": [
    "out = pd.DataFrame.from_dict({'weig':[0,9]})"
   ]
  },
  {
   "cell_type": "code",
   "execution_count": null,
   "metadata": {},
   "outputs": [],
   "source": []
  },
  {
   "cell_type": "code",
   "execution_count": null,
   "metadata": {},
   "outputs": [],
   "source": []
  }
 ],
 "metadata": {
  "kernelspec": {
   "display_name": "Python 3",
   "language": "python",
   "name": "python3"
  },
  "language_info": {
   "codemirror_mode": {
    "name": "ipython",
    "version": 3
   },
   "file_extension": ".py",
   "mimetype": "text/x-python",
   "name": "python",
   "nbconvert_exporter": "python",
   "pygments_lexer": "ipython3",
   "version": "3.8.1"
  }
 },
 "nbformat": 4,
 "nbformat_minor": 4
}
