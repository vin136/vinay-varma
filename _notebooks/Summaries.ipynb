{
 "cells": [
  {
   "cell_type": "markdown",
   "id": "1b6dfe84",
   "metadata": {},
   "source": [
    "`Chip Huyen`"
   ]
  },
  {
   "cell_type": "markdown",
   "id": "54cec646",
   "metadata": {},
   "source": [
    "## Training Data"
   ]
  },
  {
   "cell_type": "markdown",
   "id": "4eea665e",
   "metadata": {},
   "source": [
    "Data in production is neither finite nor stationary"
   ]
  },
  {
   "cell_type": "code",
   "execution_count": 12,
   "id": "8633db45",
   "metadata": {},
   "outputs": [
    {
     "data": {
      "text/plain": [
       "[-9, 4, 6, 7, 8]"
      ]
     },
     "execution_count": 12,
     "metadata": {},
     "output_type": "execute_result"
    }
   ],
   "source": [
    "a = [-9,8,4,6,7]\n",
    "sorted(a)"
   ]
  },
  {
   "cell_type": "code",
   "execution_count": 15,
   "id": "4236197a",
   "metadata": {},
   "outputs": [],
   "source": [
    "a.sort()"
   ]
  },
  {
   "cell_type": "code",
   "execution_count": 16,
   "id": "547d0974",
   "metadata": {},
   "outputs": [
    {
     "data": {
      "text/plain": [
       "[-9, 4, 6, 7, 8]"
      ]
     },
     "execution_count": 16,
     "metadata": {},
     "output_type": "execute_result"
    }
   ],
   "source": [
    "a"
   ]
  },
  {
   "cell_type": "code",
   "execution_count": 17,
   "id": "71d23cb5",
   "metadata": {},
   "outputs": [
    {
     "data": {
      "text/plain": [
       "[-4, -1, -1, 0, 1, 2]"
      ]
     },
     "execution_count": 17,
     "metadata": {},
     "output_type": "execute_result"
    }
   ],
   "source": [
    "sorted(\n",
    "[-1,0,1,2,-1,-4])"
   ]
  },
  {
   "cell_type": "code",
   "execution_count": 22,
   "id": "52598d6c",
   "metadata": {},
   "outputs": [
    {
     "data": {
      "text/plain": [
       "True"
      ]
     },
     "execution_count": 22,
     "metadata": {},
     "output_type": "execute_result"
    }
   ],
   "source": [
    "a = {1:2,-1:1}\n",
    "b = {-1:1,1:2}\n",
    "\n",
    "frozenset(list(a.items())) == frozenset(list(b.items()))"
   ]
  },
  {
   "cell_type": "code",
   "execution_count": 26,
   "id": "54bebb45",
   "metadata": {},
   "outputs": [
    {
     "data": {
      "text/plain": [
       "frozenset({(1, 2), (2, 1)})"
      ]
     },
     "execution_count": 26,
     "metadata": {},
     "output_type": "execute_result"
    }
   ],
   "source": [
    "from collections import Counter\n",
    "frozenset(Counter([1,1,2]).items())"
   ]
  },
  {
   "cell_type": "code",
   "execution_count": 27,
   "id": "d8adbc95",
   "metadata": {},
   "outputs": [],
   "source": [
    "l = [9,0,7]"
   ]
  },
  {
   "cell_type": "code",
   "execution_count": 32,
   "id": "610bd13a",
   "metadata": {},
   "outputs": [],
   "source": [
    "l.remove(9)"
   ]
  },
  {
   "cell_type": "code",
   "execution_count": 34,
   "id": "bb204225",
   "metadata": {},
   "outputs": [
    {
     "data": {
      "text/plain": [
       "{0, 9}"
      ]
     },
     "execution_count": 34,
     "metadata": {},
     "output_type": "execute_result"
    }
   ],
   "source": [
    "a = set([0,9])\n",
    "a"
   ]
  },
  {
   "cell_type": "code",
   "execution_count": 35,
   "id": "214e3bbf",
   "metadata": {},
   "outputs": [],
   "source": [
    "a.add(8)"
   ]
  },
  {
   "cell_type": "code",
   "execution_count": 36,
   "id": "5fbbec63",
   "metadata": {},
   "outputs": [
    {
     "data": {
      "text/plain": [
       "{0, 8, 9}"
      ]
     },
     "execution_count": 36,
     "metadata": {},
     "output_type": "execute_result"
    }
   ],
   "source": [
    "a"
   ]
  },
  {
   "cell_type": "code",
   "execution_count": 37,
   "id": "1fd3179a",
   "metadata": {},
   "outputs": [],
   "source": [
    "a.remove(8)"
   ]
  },
  {
   "cell_type": "code",
   "execution_count": 38,
   "id": "6d6e692c",
   "metadata": {},
   "outputs": [
    {
     "data": {
      "text/plain": [
       "{0, 9}"
      ]
     },
     "execution_count": 38,
     "metadata": {},
     "output_type": "execute_result"
    }
   ],
   "source": [
    "a"
   ]
  },
  {
   "cell_type": "code",
   "execution_count": null,
   "id": "404404bc",
   "metadata": {},
   "outputs": [],
   "source": []
  }
 ],
 "metadata": {
  "kernelspec": {
   "display_name": "Python 3 (ipykernel)",
   "language": "python",
   "name": "python3"
  },
  "language_info": {
   "codemirror_mode": {
    "name": "ipython",
    "version": 3
   },
   "file_extension": ".py",
   "mimetype": "text/x-python",
   "name": "python",
   "nbconvert_exporter": "python",
   "pygments_lexer": "ipython3",
   "version": "3.9.9"
  }
 },
 "nbformat": 4,
 "nbformat_minor": 5
}
