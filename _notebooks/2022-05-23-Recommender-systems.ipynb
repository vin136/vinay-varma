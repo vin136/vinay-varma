{
 "cells": [
  {
   "cell_type": "markdown",
   "id": "3272a6ee",
   "metadata": {},
   "source": [
    "# Inside Spotify's Recommender system\n",
    "> A tutorial introduction to density estimation methods with deep learning.\n",
    "\n",
    "- toc: true \n",
    "- badges: true\n",
    "- comments: true\n",
    "- categories: [Reinforcement learning]\n",
    "\n"
   ]
  },
  {
   "cell_type": "markdown",
   "id": "2c232123",
   "metadata": {},
   "source": [
    "For demonstration purposes, I'll take the liberty of citing a couple of my recent papers, namely the first SignalTrain paper"
   ]
  },
  {
   "cell_type": "markdown",
   "id": "46a559b0",
   "metadata": {},
   "source": [
    "# References"
   ]
  },
  {
   "cell_type": "markdown",
   "id": "96d72441",
   "metadata": {},
   "source": [
    "{% bibliography --cited %}"
   ]
  },
  {
   "cell_type": "code",
   "execution_count": null,
   "id": "846f48d9",
   "metadata": {},
   "outputs": [],
   "source": []
  }
 ],
 "metadata": {
  "kernelspec": {
   "display_name": "Python 3 (ipykernel)",
   "language": "python",
   "name": "python3"
  },
  "language_info": {
   "codemirror_mode": {
    "name": "ipython",
    "version": 3
   },
   "file_extension": ".py",
   "mimetype": "text/x-python",
   "name": "python",
   "nbconvert_exporter": "python",
   "pygments_lexer": "ipython3",
   "version": "3.9.9"
  }
 },
 "nbformat": 4,
 "nbformat_minor": 5
}
