{
 "cells": [
  {
   "cell_type": "markdown",
   "id": "9cf51b2d",
   "metadata": {},
   "source": [
    "# Inside Spotify's Recommender system\n",
    "> A tutorial introduction to density estimation methods with deep learning.\n",
    "\n",
    "- toc: true \n",
    "- badges: true\n",
    "- comments: true\n",
    "- categories: [Reinforcement learning]\n",
    "\n"
   ]
  },
  {
   "cell_type": "markdown",
   "id": "4a0e0e48",
   "metadata": {},
   "source": [
    "For demonstration purposes, I'll take the liberty of citing a couple of my recent papers, namely the first SignalTrain paper{% cite signaltrain %}"
   ]
  },
  {
   "cell_type": "markdown",
   "id": "7059c4f0",
   "metadata": {},
   "source": [
    "# References"
   ]
  },
  {
   "cell_type": "markdown",
   "id": "2fb1208d",
   "metadata": {},
   "source": [
    "{% bibliography --cited %}"
   ]
  },
  {
   "cell_type": "code",
   "execution_count": null,
   "id": "d6657fa6",
   "metadata": {},
   "outputs": [],
   "source": []
  }
 ],
 "metadata": {
  "kernelspec": {
   "display_name": "Python 3 (ipykernel)",
   "language": "python",
   "name": "python3"
  },
  "language_info": {
   "codemirror_mode": {
    "name": "ipython",
    "version": 3
   },
   "file_extension": ".py",
   "mimetype": "text/x-python",
   "name": "python",
   "nbconvert_exporter": "python",
   "pygments_lexer": "ipython3",
   "version": "3.9.9"
  }
 },
 "nbformat": 4,
 "nbformat_minor": 5
}
