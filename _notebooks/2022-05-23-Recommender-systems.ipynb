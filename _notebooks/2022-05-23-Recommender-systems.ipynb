{
 "cells": [
  {
   "cell_type": "markdown",
   "id": "d607bb2f",
   "metadata": {},
   "source": [
    "# Inside Spotify's Recommender system\n",
    "> A tutorial introduction to density estimation methods with deep learning.\n",
    "\n",
    "- toc: true \n",
    "- badges: true\n",
    "- comments: true\n",
    "- categories: [Reinforcement learning]\n",
    "\n"
   ]
  },
  {
   "cell_type": "markdown",
   "id": "1a532a79",
   "metadata": {},
   "source": [
    "Now, in this Markdown cell, I'll include the same text I did before:\n",
    "\n",
    "For demonstration purposes, I'll take the liberty of citing a couple of my recent papers, namely the first SignalTrain paper{% cite signaltrain %} and the new one by Billy Mitchell."
   ]
  },
  {
   "cell_type": "code",
   "execution_count": 3,
   "id": "d966ee5b",
   "metadata": {},
   "outputs": [
    {
     "data": {
      "text/plain": [
       "[<matplotlib.lines.Line2D at 0x11fdbedc0>]"
      ]
     },
     "execution_count": 3,
     "metadata": {},
     "output_type": "execute_result"
    },
    {
     "data": {
      "image/png": "[encoded data removed]",
      "text/plain": [
       "<Figure size 432x288 with 1 Axes>"
      ]
     },
     "metadata": {
      "needs_background": "light"
     },
     "output_type": "display_data"
    }
   ],
   "source": [
    "# and a little more code\n",
    "import numpy as np\n",
    "import matplotlib.pyplot as plt\n",
    "x = np.linspace(-5, 5, num=50)\n",
    "y = x**2\n",
    "plt.plot(x, y, 'o-')\n"
   ]
  },
  {
   "cell_type": "markdown",
   "id": "f3c1175f",
   "metadata": {},
   "source": [
    "And now we wrap it up with the same bibliography inclusion as the previous post...\n",
    "\n",
    "## References\n",
    "{% bibliography --cited %}"
   ]
  },
  {
   "cell_type": "markdown",
   "id": "aaa63e01",
   "metadata": {},
   "source": []
  },
  {
   "cell_type": "code",
   "execution_count": null,
   "id": "b6e6cfb9",
   "metadata": {},
   "outputs": [],
   "source": []
  }
 ],
 "metadata": {
  "kernelspec": {
   "display_name": "Python 3 (ipykernel)",
   "language": "python",
   "name": "python3"
  },
  "language_info": {
   "codemirror_mode": {
    "name": "ipython",
    "version": 3
   },
   "file_extension": ".py",
   "mimetype": "text/x-python",
   "name": "python",
   "nbconvert_exporter": "python",
   "pygments_lexer": "ipython3",
   "version": "3.9.9"
  }
 },
 "nbformat": 4,
 "nbformat_minor": 5
}
