{
 "cells": [
  {
   "cell_type": "markdown",
   "id": "c8eac8ba",
   "metadata": {},
   "source": [
    "# Inside Spotify's Recommender system\n",
    "> A tutorial introduction to density estimation methods with deep learning.\n",
    "\n",
    "- toc: true \n",
    "- badges: true\n",
    "- comments: true\n",
    "- categories: [Reinforcement learning]\n",
    "\n"
   ]
  },
  {
   "cell_type": "markdown",
   "id": "cb68554d",
   "metadata": {},
   "source": [
    "{% bibliography --cited %}"
   ]
  },
  {
   "cell_type": "code",
   "execution_count": null,
   "id": "7d3f2f0c",
   "metadata": {},
   "outputs": [],
   "source": []
  }
 ],
 "metadata": {
  "kernelspec": {
   "display_name": "Python 3 (ipykernel)",
   "language": "python",
   "name": "python3"
  },
  "language_info": {
   "codemirror_mode": {
    "name": "ipython",
    "version": 3
   },
   "file_extension": ".py",
   "mimetype": "text/x-python",
   "name": "python",
   "nbconvert_exporter": "python",
   "pygments_lexer": "ipython3",
   "version": "3.9.9"
  }
 },
 "nbformat": 4,
 "nbformat_minor": 5
}
