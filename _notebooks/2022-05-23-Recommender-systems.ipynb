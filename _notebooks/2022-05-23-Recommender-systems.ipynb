{
 "cells": [
  {
   "cell_type": "markdown",
   "id": "d607bb2f",
   "metadata": {},
   "source": [
    "# Learning From user interactions\n",
    "> Inside Spotify's Recommender System.\n",
    "\n",
    "- toc: true \n",
    "- badges: true\n",
    "- comments: true\n",
    "- sticky_rank: 2\n",
    "- categories: [Reinforcement learning]\n",
    "\n"
   ]
  },
  {
   "cell_type": "markdown",
   "id": "6cb8958c",
   "metadata": {},
   "source": [
    "`Note`: Using Spotify as the running example, this article gives a whirlwind tour of the key challenges in building a personalized recommender system at scale. I choose Spotify as it seemed to me to have gotten many things right in terms of leveraging machine learning to give magical user experience. The aim is to give a glimpse of the possible algorithms(machine learning) behing such a system."
   ]
  },
  {
   "cell_type": "markdown",
   "id": "171b0dc2",
   "metadata": {},
   "source": [
    "Ref: https://sites.google.com/view/kdd20-marketplace-autorecsys/"
   ]
  },
  {
   "cell_type": "markdown",
   "id": "9a3237d2",
   "metadata": {},
   "source": [
    "Market Places\n",
    "\n",
    "`UBER EATS`\n",
    "\n",
    "3 sided platform\n",
    "\n",
    "Eaters : Discover and order food.\n",
    "Restaurants: Sales channel to find customers\n",
    "Delivery-partners: Earn income by picking up food from restaurants and delivering it to eaters.\n",
    "\n",
    "objectives:\n",
    "\n",
    "- Eater conversion rate\n",
    "- Increase Diversity\n",
    "- Exposure of restaurants\n",
    "- Delivery Times\n",
    "\n",
    "`On-Demand Delivery Solutions`(Instacart/Big-basket)\n",
    "\n",
    "- Users : Quick delivery,best prices, reliable merchants,fresh items\n",
    "- Merchants: matching quality, exposure, minimize wastage\n",
    "- Delivery partners: efficient drop location planning, regularity in jobs, earnings per partner.\n",
    "\n",
    "`AirBnb`\n",
    "\n",
    "objectives:\n",
    "\n",
    "- Different objectives for low intent users\n",
    "- Conversions (search to book)\n",
    "- No. of bookings per host\n",
    "\n",
    "`Spotify`\n",
    "\n",
    "- Artists to Users.\n",
    "\n",
    "`Funding Circle`\n",
    "\n",
    "objectives:\n",
    "- Quick and easy access to loans\n",
    "- Return on investment\n",
    "- Increase borrowers\n",
    "- Lower loan default cases.\n",
    "\n"
   ]
  },
  {
   "cell_type": "markdown",
   "id": "2d1ec10f",
   "metadata": {},
   "source": [
    "Types of Objectives\n",
    "\n",
    "Estimated via Static Computation\n",
    "\n",
    "- Relevance (user,item similarity),Familiarity (Has he/she seen/interacted before),Affinity(every time we show this add,user goes away-negative affinity)\n",
    "\n",
    "Predicted via Learned Models\n",
    "\n",
    "- p(return): If we show this now, what is the probability that the user returns to the platform in `n` days.\n",
    "- p(click)\n",
    "- p(consume)\n",
    "\n",
    "Factual\n",
    "\n",
    "- Margin based.  \n",
    "- Revenue based."
   ]
  },
  {
   "cell_type": "markdown",
   "id": "2a4cca0d",
   "metadata": {},
   "source": [
    "Interplay between Objectives\n",
    "\n",
    "- Correlated.\n",
    "- Neutral.\n",
    "- Anti-correlated.\n",
    "\n",
    "We can take log-data and measure the correlation between our metrics - Off Policy evaluation(debiasing) b. Randomized trials."
   ]
  },
  {
   "cell_type": "markdown",
   "id": "766ade22",
   "metadata": {},
   "source": [
    "Consider a scenario of showing playlists to users.\n",
    "\n",
    "- Relevance(to user)\n",
    "- Fairness/diversity( of supplier )\n",
    "\n",
    "Now with 5 objectives:\n",
    "\n"
   ]
  },
  {
   "cell_type": "markdown",
   "id": "99f5b5bc",
   "metadata": {},
   "source": [
    "`Pareto Optimality`\n",
    "\n",
    "1. Multi-Task Learning\n",
    "\n",
    "- Hard parameter sharing\n",
    "- Soft parameter sharing (with regularization)\n",
    "- We don't know how relevant are tasks(sluice networks): Adaptive sharing. Inductive bias: enforce division of labour.\n",
    "\n",
    "`NOTE`: Here we have prespecified weights to each of the tasks. This doesn't gaurentee pareto optimal solution.\n",
    "\n",
    "2. Scalarization : Predict multiple things and combine them.\n",
    "\n",
    "Say we have two objectives : a. Relevance b. Fairness\n",
    "\n",
    "Have two models and aggregate them as argmax $(1-\\beta)\\phi(u,s) + \\beta \\psi(s)$.\n",
    "Eg: Sum, Weighted Sum, Ordered Weighted avg.\n",
    "\n",
    "On a global scale i don't want to do multi-objective outputs. Treat each session independently(group them) ,and optimize one objective on some while other on others.\n",
    "\n",
    "3. Multi-task as multiobjective optimization\n",
    "\n",
    "Have learnable weights and explore the pareto front. Direction that improves all objectives.\n",
    "\n",
    "\n",
    "Candidate generation : bunch of possible curated playlists to the user.\n",
    "\n",
    "Now show which playlist to the user: Multi-Armed bandit(contextual) with multi-objective.\n",
    "\n",
    "- Maximizing click through rate\n",
    "- Maximizing number of songs played\n",
    "- Max stream time\n",
    "- Diversity.\n",
    "\n",
    "Multiobjective RL\n",
    "\n",
    " - Scalirized approach: Find a single policy that optimizes a combination of the rewards. Which reward combination is preferable at which state ?\n",
    " \n",
    " - Pareto Approach"
   ]
  },
  {
   "cell_type": "markdown",
   "id": "5bff002c",
   "metadata": {},
   "source": [
    "Now that we have a multi-objective model, how can we leverage our understanding about various stake-holders.\n",
    "\n",
    "User Understanding Implications:\n",
    "\n",
    "1. Some users are receptive while some are less so: Helps avoiding user dissatisfaction.\n",
    "\n",
    "2. User intent: Better target content, especially from other stakeholder objectives. \n",
    "\n",
    "User groups: Some users like content diversity and some don't\n",
    "\n",
    "- Specialists \n",
    "- Generalists\n",
    "\n",
    "Understanding Intent(Multilevel modeling): When there is no explicit search, understanding what the user is looking for is very hard but also very useful to customize the homepage/recommender system.\n",
    "\n",
    "Example:\n",
    "\n",
    "Passively listening\n",
    "\n",
    " - find music to play in the background\n",
    " - quickly access their playlist, play music that matches their mood.\n",
    " \n",
    "Actively Engaging\n",
    "- To discover new music or explore new artists.\n",
    "\n",
    "\n",
    "`Take home`: We have multiobjective metrics, there once we have user level information, then we can choose to ignore/overdrive some of them : This user is expecially looking to find new artists(actively engaging)-> so we can overdrive diversity metrics."
   ]
  },
  {
   "cell_type": "markdown",
   "id": "978b022e",
   "metadata": {},
   "source": [
    "Spillover effects across Suppliers: Other artists benefit by the virtue of being on the platform.(or otherwise)\n",
    "\n",
    "- New track releases help not only the focal artist but also other related artists.\n",
    "\n",
    "Q1: Let's say we develop a composite metric, should we just optimize for that ?\n",
    "\n",
    "ans: Element of user receptivity, I can keep satisfaction neutral and increase diversity metric by targeting these users - Scalarized approach is lacking in detail.Thus we might be leaving some money on the table. But now take a multi-objective approach: It has access to all objectives specifically. Say for a session with receptive user, we choose to focus on listen time but not on diversity."
   ]
  },
  {
   "cell_type": "markdown",
   "id": "bd194b4b",
   "metadata": {},
   "source": [
    "`Content Understanding`\n",
    "\n",
    "1. Same reward for playtime on a. Sleep playlist b.Any other playlist is not a good idea. Consumption time of sleep playlist is longer than average.\n",
    "\n",
    "2. Jazz listeners tend to listen jazz playlists more.\n",
    "\n",
    "User & Content aware reward:\n",
    "\n",
    "`Query understanding`\n",
    "\n",
    "Non-focused queries,broad intent queries vs focused ones.\n",
    "    "
   ]
  },
  {
   "cell_type": "markdown",
   "id": "487d8ad8",
   "metadata": {},
   "source": [
    "Industry Applications\n",
    "\n",
    "- Recommendations with capacity constraints.\n",
    "- "
   ]
  },
  {
   "cell_type": "markdown",
   "id": "09373113",
   "metadata": {},
   "source": [
    "Challenges for traditional recommender system(Matrix factorization based batch)\n",
    "\n",
    "1. Scarce feedback\n",
    "2. Dynamic catalog\n",
    "3. Non Stationary member base\n",
    "4. Time Sensitivity\n",
    " - Member interests change \n",
    " - Content popularity changes\n",
    " - respond quickly.\n"
   ]
  },
  {
   "cell_type": "markdown",
   "id": "29e49964",
   "metadata": {},
   "source": [
    "Bandits as an alternative to [A/B testing](https://blog.insightdatascience.com/multi-armed-bandits-for-dynamic-movie-recommendations-5eb8f325ed1d)"
   ]
  },
  {
   "cell_type": "markdown",
   "id": "e683fb06",
   "metadata": {},
   "source": [
    "Exploration Strategies\n",
    "\n",
    "- Naive exploration\n",
    "- Optimism in the face of uncertainty (UCB)\n",
    "- Probability Matching (Thompson Sampling)"
   ]
  },
  {
   "cell_type": "markdown",
   "id": "17601324",
   "metadata": {},
   "source": [
    "Goals/Challenges\n",
    "\n",
    "1. Identify user's tastes and give personalized recommendations.\n",
    "\n",
    "Why: Long term user satisfaction is the goal. Eventually, we should aim to formalize `long term user satisfaction`  and benchmark algorithms.\n",
    "\n",
    "Input: "
   ]
  },
  {
   "cell_type": "markdown",
   "id": "84b3b25a",
   "metadata": {},
   "source": [
    "CRM: Counterfactual risk minimization."
   ]
  },
  {
   "cell_type": "markdown",
   "id": "1a532a79",
   "metadata": {},
   "source": [
    "Now, in this Markdown cell, I'll include the same text I did before:\n",
    "\n",
    "For demonstration purposes, I'll take the liberty of citing a couple of my recent papers, namely the first SignalTrain paper{% cite signaltrain %} and the new one by Billy Mitchell."
   ]
  },
  {
   "cell_type": "code",
   "execution_count": 4,
   "id": "d966ee5b",
   "metadata": {},
   "outputs": [
    {
     "data": {
      "text/plain": [
       "[<matplotlib.lines.Line2D at 0x11ffc81c0>]"
      ]
     },
     "execution_count": 4,
     "metadata": {},
     "output_type": "execute_result"
    },
    {
     "data": {
      "image/png": "[encoded data removed]",
      "text/plain": [
       "<Figure size 432x288 with 1 Axes>"
      ]
     },
     "metadata": {
      "needs_background": "light"
     },
     "output_type": "display_data"
    }
   ],
   "source": [
    "# and a little more code\n",
    "import numpy as np\n",
    "import matplotlib.pyplot as plt\n",
    "x = np.linspace(-5, 5, num=50)\n",
    "y = x**2\n",
    "plt.plot(x, y, 'o-')\n"
   ]
  },
  {
   "cell_type": "markdown",
   "id": "5a043250",
   "metadata": {},
   "source": [
    "Cited as:\n",
    "\n",
    "```\n",
    "@article{varmakRecsys,\n",
    "  title   = \"Learning From user interactions:Inside Spotify's Recommender System.\",\n",
    "  author  = \"Vinay Varma K\",\n",
    "  journal = \"https://vinayvarma.work\",\n",
    "  year    = \"2022\",\n",
    "  url     = \"https://vinayvarma.work/reinforcement%20learning/2022/05/23/Recommender-systems.html\"\n",
    "}```"
   ]
  },
  {
   "cell_type": "markdown",
   "id": "f3c1175f",
   "metadata": {},
   "source": [
    "And now we wrap it up with the same bibliography inclusion as the previous post...\n",
    "\n",
    "## References\n",
    "{% bibliography --cited %}"
   ]
  },
  {
   "cell_type": "markdown",
   "id": "aaa63e01",
   "metadata": {},
   "source": []
  },
  {
   "cell_type": "code",
   "execution_count": null,
   "id": "b6e6cfb9",
   "metadata": {},
   "outputs": [],
   "source": []
  }
 ],
 "metadata": {
  "kernelspec": {
   "display_name": "Python 3 (ipykernel)",
   "language": "python",
   "name": "python3"
  },
  "language_info": {
   "codemirror_mode": {
    "name": "ipython",
    "version": 3
   },
   "file_extension": ".py",
   "mimetype": "text/x-python",
   "name": "python",
   "nbconvert_exporter": "python",
   "pygments_lexer": "ipython3",
   "version": "3.9.9"
  }
 },
 "nbformat": 4,
 "nbformat_minor": 5
}
